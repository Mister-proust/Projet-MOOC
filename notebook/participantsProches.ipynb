{
 "cells": [
  {
   "cell_type": "markdown",
   "id": "ba6e77af",
   "metadata": {},
   "source": [
    "# Analyse de proximité entre participants (cours + discussions)"
   ]
  },
  {
   "cell_type": "markdown",
   "id": "bc5dac97",
   "metadata": {},
   "source": [
    "## Connexion à MongoDB"
   ]
  },
  {
   "cell_type": "code",
   "execution_count": null,
   "id": "10ca6b16",
   "metadata": {},
   "outputs": [
    {
     "name": "stdout",
     "output_type": "stream",
     "text": [
      "Connexion à MongoDB réussie ✅\n"
     ]
    }
   ],
   "source": [
    "# Connexion à la base MongoDB locale\n",
    "from pymongo import MongoClient\n",
    "\n",
    "client = MongoClient('mongodb://localhost:27017/')\n",
    "db = client['MOOC']\n",
    "collection = db['forum']\n",
    "\n",
    "print(\"Connexion à MongoDB réussie ✅\")"
   ]
  },
  {
   "cell_type": "markdown",
   "id": "00211225",
   "metadata": {},
   "source": [
    "## Sélection d’un participant de référence"
   ]
  },
  {
   "cell_type": "code",
   "execution_count": 2,
   "id": "75d960d5",
   "metadata": {},
   "outputs": [
    {
     "name": "stdout",
     "output_type": "stream",
     "text": [
      "Participant choisi : SC91\n"
     ]
    }
   ],
   "source": [
    "# Participant choisi (à personnaliser)\n",
    "participant = \"SC91\"\n",
    "\n",
    "print(f\"Participant choisi : {participant}\")"
   ]
  },
  {
   "cell_type": "markdown",
   "id": "e4b18fed",
   "metadata": {},
   "source": [
    "## Extraction de ses interactions (cours & threads)"
   ]
  },
  {
   "cell_type": "code",
   "execution_count": 3,
   "id": "4dc80cfd",
   "metadata": {},
   "outputs": [
    {
     "name": "stdout",
     "output_type": "stream",
     "text": [
      "Cours suivis par SC91 : {'CNAM/01002/Trimestre_1_2014'}\n",
      "Threads touchés par SC91 : {'52ef611a38bffc84380008e9', '52ef6120122bb64c4f000924', '52fcaedb4b4451f4ad000065'}\n"
     ]
    }
   ],
   "source": [
    "# Récupérer les threads créés et commentés par le participant\n",
    "threads = collection.find({ \"content.username\": participant })\n",
    "comments = collection.find({ \"content.children.username\": participant })\n",
    "\n",
    "# Construire les ensembles de cours et threads\n",
    "cours_participant = set()\n",
    "threads_participant = set()\n",
    "\n",
    "for doc in threads:\n",
    "    cours_participant.add(doc['content']['course_id'])\n",
    "    threads_participant.add(doc['content']['id'])\n",
    "\n",
    "for doc in comments:\n",
    "    cours_participant.add(doc['content']['course_id'])\n",
    "    threads_participant.add(doc['content']['id'])\n",
    "\n",
    "# Vérification\n",
    "print(f\"Cours suivis par {participant} : {cours_participant}\")\n",
    "print(f\"Threads touchés par {participant} : {threads_participant}\")"
   ]
  },
  {
   "cell_type": "markdown",
   "id": "a6ab73d0",
   "metadata": {},
   "source": [
    "## Récupération de tous les autres participants"
   ]
  },
  {
   "cell_type": "code",
   "execution_count": 4,
   "id": "33229482",
   "metadata": {},
   "outputs": [
    {
     "name": "stdout",
     "output_type": "stream",
     "text": [
      "36241 autres participants à comparer\n"
     ]
    }
   ],
   "source": [
    "# Liste de tous les participants uniques\n",
    "usernames = collection.distinct(\"content.username\")\n",
    "\n",
    "# Exclure le participant de référence\n",
    "usernames = [u for u in usernames if u != participant]\n",
    "\n",
    "print(f\"{len(usernames)} autres participants à comparer\")"
   ]
  },
  {
   "cell_type": "markdown",
   "id": "e164e5aa",
   "metadata": {},
   "source": [
    "## Fonction de similarité (Jaccard)"
   ]
  },
  {
   "cell_type": "code",
   "execution_count": 5,
   "id": "d6d0e10a",
   "metadata": {},
   "outputs": [],
   "source": [
    "# Calcul de la similarité Jaccard entre 2 ensembles\n",
    "def jaccard(set1, set2):\n",
    "    intersection = len(set1 & set2)\n",
    "    union = len(set1 | set2)\n",
    "    return intersection / union if union != 0 else 0"
   ]
  },
  {
   "cell_type": "markdown",
   "id": "9c29ece4",
   "metadata": {},
   "source": [
    "## Calcul des similarités pour chaque participant"
   ]
  },
  {
   "cell_type": "code",
   "execution_count": 6,
   "id": "fd9c3618",
   "metadata": {},
   "outputs": [],
   "source": [
    "# Calcul des similarités et stockage des scores\n",
    "resultats = []\n",
    "\n",
    "for other in usernames:\n",
    "    # Threads et commentaires de l'autre participant\n",
    "    threads = collection.find({ \"content.username\": other })\n",
    "    comments = collection.find({ \"content.children.username\": other })\n",
    "\n",
    "    cours_other = set()\n",
    "    threads_other = set()\n",
    "\n",
    "    for doc in threads:\n",
    "        cours_other.add(doc['content']['course_id'])\n",
    "        threads_other.add(doc['content']['id'])\n",
    "\n",
    "    for doc in comments:\n",
    "        cours_other.add(doc['content']['course_id'])\n",
    "        threads_other.add(doc['content']['id'])\n",
    "\n",
    "    # Calcul similarités\n",
    "    score_cours = jaccard(cours_participant, cours_other)\n",
    "    score_threads = jaccard(threads_participant, threads_other)\n",
    "    score_moyen = (score_cours + score_threads) / 2\n",
    "\n",
    "    resultats.append((other, score_cours, score_threads, score_moyen))"
   ]
  },
  {
   "cell_type": "markdown",
   "id": "6a656c0d",
   "metadata": {},
   "source": [
    "## Tri et affichage des résultats"
   ]
  },
  {
   "cell_type": "code",
   "execution_count": 7,
   "id": "3f2a2119",
   "metadata": {},
   "outputs": [
    {
     "name": "stdout",
     "output_type": "stream",
     "text": [
      "Top 5 des participants les plus proches de SC91 :\n",
      "\n",
      "angel13119 | Similarité cours=1.00 | threads=0.33 | moyenne=0.67\n",
      "CELINE95 | Similarité cours=1.00 | threads=0.25 | moyenne=0.62\n",
      "Kduce | Similarité cours=1.00 | threads=0.20 | moyenne=0.60\n",
      "Robert-78 | Similarité cours=1.00 | threads=0.20 | moyenne=0.60\n",
      "sandiemoreau | Similarité cours=1.00 | threads=0.20 | moyenne=0.60\n"
     ]
    }
   ],
   "source": [
    "# Trier les participants par similarité décroissante\n",
    "resultats = sorted(resultats, key=lambda x: x[3], reverse=True)\n",
    "\n",
    "# Afficher les 5 plus proches\n",
    "print(f\"Top 5 des participants les plus proches de {participant} :\\n\")\n",
    "for r in resultats[:5]:\n",
    "    print(f\"{r[0]} | Similarité cours={r[1]:.2f} | threads={r[2]:.2f} | moyenne={r[3]:.2f}\")"
   ]
  }
 ],
 "metadata": {
  "kernelspec": {
   "display_name": "venv",
   "language": "python",
   "name": "python3"
  },
  "language_info": {
   "codemirror_mode": {
    "name": "ipython",
    "version": 3
   },
   "file_extension": ".py",
   "mimetype": "text/x-python",
   "name": "python",
   "nbconvert_exporter": "python",
   "pygments_lexer": "ipython3",
   "version": "3.12.0"
  }
 },
 "nbformat": 4,
 "nbformat_minor": 5
}
