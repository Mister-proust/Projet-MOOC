{
 "cells": [
  {
   "cell_type": "code",
   "execution_count": 2,
   "id": "a00dafe0-96b3-4d02-83bf-1dae2514cb5d",
   "metadata": {},
   "outputs": [
    {
     "name": "stderr",
     "output_type": "stream",
     "text": [
      "/home/steve/Documents/FormationIA/ProjetMooc/Projet-MOOC/ENV/lib/python3.10/site-packages/pymongo/synchronous/collection.py:1945: UserWarning: use an explicit session with no_cursor_timeout=True otherwise the cursor may still timeout after 30 minutes, for more info see https://mongodb.com/docs/v4.4/reference/method/cursor.noCursorTimeout/#session-idle-timeout-overrides-nocursortimeout\n",
      "  return Cursor(self, *args, **kwargs)\n"
     ]
    },
    {
     "data": {
      "text/html": [
       "<div>\n",
       "<style scoped>\n",
       "    .dataframe tbody tr th:only-of-type {\n",
       "        vertical-align: middle;\n",
       "    }\n",
       "\n",
       "    .dataframe tbody tr th {\n",
       "        vertical-align: top;\n",
       "    }\n",
       "\n",
       "    .dataframe thead th {\n",
       "        text-align: right;\n",
       "    }\n",
       "</style>\n",
       "<table border=\"1\" class=\"dataframe\">\n",
       "  <thead>\n",
       "    <tr style=\"text-align: right;\">\n",
       "      <th></th>\n",
       "      <th>_id</th>\n",
       "      <th>titre</th>\n",
       "      <th>titre_sujet</th>\n",
       "      <th>Nom_du_cours</th>\n",
       "      <th>contenu_message</th>\n",
       "      <th>username</th>\n",
       "      <th>created_at</th>\n",
       "    </tr>\n",
       "  </thead>\n",
       "  <tbody>\n",
       "    <tr>\n",
       "      <th>0</th>\n",
       "      <td>52ef4b71ab137b00720007d4</td>\n",
       "      <td>Jeune Ingénieur</td>\n",
       "      <td>Entre nous / Presentez-vous</td>\n",
       "      <td>CNAM/01002/Trimestre_1_2014</td>\n",
       "      <td>Dans le cadre de mes études d'ingénieur j'ai é...</td>\n",
       "      <td>qb</td>\n",
       "      <td>2014-02-03T07:55:29Z</td>\n",
       "    </tr>\n",
       "    <tr>\n",
       "      <th>1</th>\n",
       "      <td>52ef4d79b4907d2e23000996</td>\n",
       "      <td>Appronfondir mes connaissances</td>\n",
       "      <td>Entre nous / Presentez-vous</td>\n",
       "      <td>CNAM/01002/Trimestre_1_2014</td>\n",
       "      <td>Bonjour,\\nje suis actuellement une formation d...</td>\n",
       "      <td>fidji</td>\n",
       "      <td>2014-02-03T08:04:09Z</td>\n",
       "    </tr>\n",
       "    <tr>\n",
       "      <th>2</th>\n",
       "      <td>52ef4f99344caaf903000158</td>\n",
       "      <td>Motivations d'une archiviste enseignante</td>\n",
       "      <td>Entre nous / Presentez-vous</td>\n",
       "      <td>CNAM/01002/Trimestre_1_2014</td>\n",
       "      <td>Bonjour à tous (et je crois que nous sommes no...</td>\n",
       "      <td>ambruleaux</td>\n",
       "      <td>2014-02-03T08:13:13Z</td>\n",
       "    </tr>\n",
       "    <tr>\n",
       "      <th>3</th>\n",
       "      <td>52ef50b5cfc81d7e4100090e</td>\n",
       "      <td>Ancien Manager et Patron</td>\n",
       "      <td>Entre nous / Presentez-vous</td>\n",
       "      <td>CNAM/01002/Trimestre_1_2014</td>\n",
       "      <td>Bonjour, j'ai eu une expérience de Manager de ...</td>\n",
       "      <td>EricBouchet</td>\n",
       "      <td>2014-02-03T08:17:57Z</td>\n",
       "    </tr>\n",
       "    <tr>\n",
       "      <th>4</th>\n",
       "      <td>52ef565b4b4451380f0008b2</td>\n",
       "      <td>Apprendre</td>\n",
       "      <td>Semaine_1 / Definition</td>\n",
       "      <td>CNAM/01002/Trimestre_1_2014</td>\n",
       "      <td>Je retiens que le manager peut jouer plusieurs...</td>\n",
       "      <td>edwigedk</td>\n",
       "      <td>2014-02-03T08:42:03Z</td>\n",
       "    </tr>\n",
       "  </tbody>\n",
       "</table>\n",
       "</div>"
      ],
      "text/plain": [
       "                        _id                                     titre  \\\n",
       "0  52ef4b71ab137b00720007d4                           Jeune Ingénieur   \n",
       "1  52ef4d79b4907d2e23000996            Appronfondir mes connaissances   \n",
       "2  52ef4f99344caaf903000158  Motivations d'une archiviste enseignante   \n",
       "3  52ef50b5cfc81d7e4100090e                  Ancien Manager et Patron   \n",
       "4  52ef565b4b4451380f0008b2                                 Apprendre   \n",
       "\n",
       "                   titre_sujet                 Nom_du_cours  \\\n",
       "0  Entre nous / Presentez-vous  CNAM/01002/Trimestre_1_2014   \n",
       "1  Entre nous / Presentez-vous  CNAM/01002/Trimestre_1_2014   \n",
       "2  Entre nous / Presentez-vous  CNAM/01002/Trimestre_1_2014   \n",
       "3  Entre nous / Presentez-vous  CNAM/01002/Trimestre_1_2014   \n",
       "4       Semaine_1 / Definition  CNAM/01002/Trimestre_1_2014   \n",
       "\n",
       "                                     contenu_message     username  \\\n",
       "0  Dans le cadre de mes études d'ingénieur j'ai é...           qb   \n",
       "1  Bonjour,\\nje suis actuellement une formation d...        fidji   \n",
       "2  Bonjour à tous (et je crois que nous sommes no...   ambruleaux   \n",
       "3  Bonjour, j'ai eu une expérience de Manager de ...  EricBouchet   \n",
       "4  Je retiens que le manager peut jouer plusieurs...     edwigedk   \n",
       "\n",
       "             created_at  \n",
       "0  2014-02-03T07:55:29Z  \n",
       "1  2014-02-03T08:04:09Z  \n",
       "2  2014-02-03T08:13:13Z  \n",
       "3  2014-02-03T08:17:57Z  \n",
       "4  2014-02-03T08:42:03Z  "
      ]
     },
     "execution_count": 2,
     "metadata": {},
     "output_type": "execute_result"
    }
   ],
   "source": [
    "from pymongo import MongoClient\n",
    "import pandas as pd\n",
    "import numpy as np\n",
    "from dotenv import load_dotenv\n",
    "import os\n",
    "\n",
    "load_dotenv()\n",
    "\n",
    "clientmongo = os.getenv(\"CLIENTMONGO\")\n",
    "database= os.getenv(\"DATABASE\")\n",
    "collectiondb = os.getenv(\"COLLECTIONDB\")\n",
    "\n",
    "client = MongoClient(clientmongo)\n",
    "db = client[database]\n",
    "collection = db[collectiondb]\n",
    "\n",
    "rows = []\n",
    "\n",
    "# Traitement en lot\n",
    "batch_size = 1000\n",
    "cursor = collection.find({}, no_cursor_timeout=True).batch_size(batch_size)\n",
    "\n",
    "for doc in cursor:\n",
    "    content = doc.get(\"content\", {})\n",
    "    rows.append({\n",
    "        \"_id\": doc.get(\"_id\"),\n",
    "        \"titre\": content.get(\"title\"),\n",
    "        \"titre_sujet\": content.get(\"courseware_title\"),\n",
    "        \"Nom_du_cours\": content.get(\"course_id\"),\n",
    "        \"contenu_message\": content.get(\"body\"),\n",
    "        \"username\": content.get(\"username\"),\n",
    "        \"created_at\": content.get(\"created_at\"),\n",
    "    })\n",
    "\n",
    "\n",
    "df = pd.DataFrame(rows)\n",
    "df.head()"
   ]
  },
  {
   "cell_type": "code",
   "execution_count": 3,
   "id": "08817245-a92b-42ca-aa20-7a14ae461dfc",
   "metadata": {},
   "outputs": [
    {
     "data": {
      "text/plain": [
       "titre\n",
       "Présentation                                                    3774\n",
       "Peter                                                            709\n",
       "Introduction                                                     689\n",
       "Bonjour                                                          671\n",
       "Anne                                                             626\n",
       "                                                                ... \n",
       "Hello from Georgia                                                 1\n",
       "My Final grade isn´t updated with the Progress of the course       1\n",
       "Vitesse de coupure - Big Bang                                      1\n",
       "Home Makeover                                                      1\n",
       "sens du vecteur champ électrique                                   1\n",
       "Name: count, Length: 54314, dtype: int64"
      ]
     },
     "execution_count": 3,
     "metadata": {},
     "output_type": "execute_result"
    }
   ],
   "source": [
    "df[\"titre\"].value_counts()\n",
    "\n",
    "# Observation des titres les plus présents dans la base. Rien de concluant... \n",
    "# On apprend très peu sur ceux ci. "
   ]
  },
  {
   "cell_type": "code",
   "execution_count": 4,
   "id": "f8013e9a-66ab-4b7e-ac0b-44300106ee1f",
   "metadata": {},
   "outputs": [
    {
     "data": {
      "text/plain": [
       "titre_sujet\n",
       "Week 1 / Are you involved in a project                                                                4595\n",
       "A vous de vous présenter / Présentations                                                              3176\n",
       "Week 2 / The initiation process                                                                       2430\n",
       "Discussion / Week 1: Favorite Applications                                                            1758\n",
       "Bienvenue / Présentez-vous                                                                            1741\n",
       "                                                                                                      ... \n",
       "Semaine 5 : Discussion sur les environnements de développement / Topic-Level Student-Visible Label       1\n",
       "Semaine 6 : Questions sur Inkscape / Topic-Level Student-Visible Label                                   1\n",
       "Semaine 4 / Semaine 4 : Conclusion                                                                       1\n",
       "Semaine 4 / Semaine 4 : Application 7                                                                    1\n",
       "Semaine 4 / Semaine 4 : Application 6                                                                    1\n",
       "Name: count, Length: 2231, dtype: int64"
      ]
     },
     "execution_count": 4,
     "metadata": {},
     "output_type": "execute_result"
    }
   ],
   "source": [
    "df[\"titre_sujet\"].value_counts()\n",
    "# On apprend beaucoup plus sur les thématiques/les cours"
   ]
  },
  {
   "cell_type": "code",
   "execution_count": 5,
   "id": "5eaf36f4-e112-4978-84a1-4f59a9436dc8",
   "metadata": {},
   "outputs": [
    {
     "data": {
      "text/plain": [
       "np.int64(12241)"
      ]
     },
     "execution_count": 5,
     "metadata": {},
     "output_type": "execute_result"
    }
   ],
   "source": [
    "df[\"titre_sujet\"].isna().sum()\n",
    "# Présence de nombreuses valeurs nulles"
   ]
  },
  {
   "cell_type": "code",
   "execution_count": 6,
   "id": "ae1bdcbc-0c2e-4998-b62a-c5b218d67a92",
   "metadata": {},
   "outputs": [],
   "source": [
    "df = df.dropna(subset=['titre_sujet']).reset_index(drop=True)\n",
    "#Suppression des valeurs nulles car cela entraîne des biais.\n"
   ]
  },
  {
   "cell_type": "code",
   "execution_count": 7,
   "id": "2f62be5a-144d-408f-9ebf-c89968996ce0",
   "metadata": {},
   "outputs": [
    {
     "ename": "ModuleNotFoundError",
     "evalue": "No module named 'sentence_transformers'",
     "output_type": "error",
     "traceback": [
      "\u001b[0;31m---------------------------------------------------------------------------\u001b[0m",
      "\u001b[0;31mModuleNotFoundError\u001b[0m                       Traceback (most recent call last)",
      "Cell \u001b[0;32mIn[7], line 3\u001b[0m\n\u001b[1;32m      1\u001b[0m \u001b[38;5;66;03m#Embeddings des titres du sujet pour traitement annexe\u001b[39;00m\n\u001b[0;32m----> 3\u001b[0m \u001b[38;5;28;01mfrom\u001b[39;00m\u001b[38;5;250m \u001b[39m\u001b[38;5;21;01msentence_transformers\u001b[39;00m\u001b[38;5;250m \u001b[39m\u001b[38;5;28;01mimport\u001b[39;00m SentenceTransformer\n\u001b[1;32m      5\u001b[0m model \u001b[38;5;241m=\u001b[39m SentenceTransformer(\u001b[38;5;124m'\u001b[39m\u001b[38;5;124mparaphrase-multilingual-MiniLM-L12-v2\u001b[39m\u001b[38;5;124m'\u001b[39m)\n\u001b[1;32m      6\u001b[0m embeddings_titresujet \u001b[38;5;241m=\u001b[39m model\u001b[38;5;241m.\u001b[39mencode(df[\u001b[38;5;124m'\u001b[39m\u001b[38;5;124mtitre_sujet\u001b[39m\u001b[38;5;124m'\u001b[39m]\u001b[38;5;241m.\u001b[39mfillna(\u001b[38;5;124m\"\u001b[39m\u001b[38;5;124mJonathan\u001b[39m\u001b[38;5;124m\"\u001b[39m), show_progress_bar\u001b[38;5;241m=\u001b[39m\u001b[38;5;28;01mTrue\u001b[39;00m)\n",
      "\u001b[0;31mModuleNotFoundError\u001b[0m: No module named 'sentence_transformers'"
     ]
    }
   ],
   "source": [
    "#Embeddings des titres du sujet pour traitement annexe\n",
    "\n",
    "from sentence_transformers import SentenceTransformer\n",
    "\n",
    "model = SentenceTransformer('paraphrase-multilingual-MiniLM-L12-v2')\n",
    "embeddings_titresujet = model.encode(df['titre_sujet'].fillna(\"Jonathan\"), show_progress_bar=True)"
   ]
  },
  {
   "cell_type": "code",
   "execution_count": null,
   "id": "d4a79c56-ae32-4abe-8f2e-58a1bce7a17a",
   "metadata": {},
   "outputs": [],
   "source": [
    "#Enregistrement des embeddings pour ne par relancer le processus à chaque fois. \n",
    "np.save(\"../data/embeddings_titres.npy\", embeddings_titresujet)"
   ]
  },
  {
   "cell_type": "code",
   "execution_count": null,
   "id": "970fab20-956a-440b-aacc-4f9ad482e80a",
   "metadata": {},
   "outputs": [],
   "source": [
    "# Chargement des embeddings\n",
    "embeddings_titresujet = np.load(\"../data/embeddings_titres.npy\")"
   ]
  },
  {
   "cell_type": "code",
   "execution_count": null,
   "id": "34ab69e6-3b96-49fc-9062-d3f32f12ca03",
   "metadata": {},
   "outputs": [],
   "source": [
    "# Kmeans sur 2 clusters de façon à déterminer d'une part les questions, d'autre part\n",
    "# les présentations. \n",
    "from sklearn.cluster import KMeans\n",
    "n_clusters = 2\n",
    "kmeans = KMeans(n_clusters=n_clusters, random_state=42)\n",
    "df['cluster'] = kmeans.fit_predict(embeddings_titresujet)\n",
    "df[\"cluster\"].value_counts()"
   ]
  },
  {
   "cell_type": "code",
   "execution_count": null,
   "id": "12953397-0a59-4406-9498-5c1c6b78e8fb",
   "metadata": {},
   "outputs": [],
   "source": [
    "df.head(5)"
   ]
  },
  {
   "cell_type": "code",
   "execution_count": null,
   "id": "a8815654-9f43-403e-ad2c-568a9b42b9e8",
   "metadata": {},
   "outputs": [],
   "source": [
    "#Remplacement des clusters déterminés par des noms cohérents. \n",
    "df[\"cluster\"] = df[\"cluster\"].replace({1: \"Présentation\", 0: \"Questions\"})"
   ]
  },
  {
   "cell_type": "code",
   "execution_count": null,
   "id": "d622227a-9efc-4878-889f-7400f08126f5",
   "metadata": {},
   "outputs": [],
   "source": [
    "# Création d'un nouveau dataframe pour analyse complémentaire avec un reset index. \n",
    "df_questions = df[df[\"cluster\"] == \"Questions\"]\n",
    "df_questions = df_questions.reset_index(drop=True)"
   ]
  },
  {
   "cell_type": "code",
   "execution_count": null,
   "id": "e899dc7e-9851-4157-8673-00e96de6e1f2",
   "metadata": {},
   "outputs": [],
   "source": [
    "df_questions.head()"
   ]
  },
  {
   "cell_type": "code",
   "execution_count": null,
   "id": "43324051-366a-43e0-85ae-4ab0e68b93e7",
   "metadata": {},
   "outputs": [],
   "source": [
    "#Embedding des contenus des messages et enregistrement de ceux ci. \n",
    "model = SentenceTransformer('paraphrase-multilingual-MiniLM-L12-v2')\n",
    "embeddings_message = model.encode(df_questions['contenu_message'].fillna(\"\"), show_progress_bar=True)"
   ]
  },
  {
   "cell_type": "code",
   "execution_count": null,
   "id": "0570cc50-5f29-4ac4-b47a-85ea00264cd3",
   "metadata": {},
   "outputs": [],
   "source": [
    "np.save(\"../data/embeddings_messages.npy\", embeddings_message)"
   ]
  },
  {
   "cell_type": "code",
   "execution_count": null,
   "id": "0b375557-bc40-4bfa-aa40-5d44480cc52b",
   "metadata": {},
   "outputs": [],
   "source": [
    "# Chargement des embeddings des messages\n",
    "embeddings_message = np.load(\"../data/embeddings_messages.npy\")"
   ]
  },
  {
   "cell_type": "code",
   "execution_count": null,
   "id": "8d46e602-d0bd-4993-af25-ad842ff28ca0",
   "metadata": {},
   "outputs": [],
   "source": [
    "# Topic modelling sur les contenus de messages (sinon trop long) et clustering\n",
    "\n",
    "from bertopic import BERTopic\n",
    "from sentence_transformers import SentenceTransformer\n",
    "from tqdm import tqdm\n",
    "\n",
    "# Modèle multilingue\n",
    "topic_model = BERTopic(embedding_model=model, verbose=True)\n",
    "\n",
    "# Envelopper directement la liste de documents avec tqdm\n",
    "documents = list(tqdm(df_questions[\"contenu_message\"], desc=\"Préparation des documents\"))\n",
    "topics, probs = topic_model.fit_transform(documents, embeddings_message)\n",
    "topic_model.save(\"../data/bertopic_original_model\")\n",
    "\n",
    "df_questions[\"topic\"] = topics\n",
    "\n",
    "# Visualisation du graphique des clusters\n",
    "topic_model.visualize_topics().show()"
   ]
  },
  {
   "cell_type": "code",
   "execution_count": null,
   "id": "14b08b91-ffbd-42ea-b633-95ae449a6c3d",
   "metadata": {},
   "outputs": [],
   "source": [
    "#from sklearn.cluster import KMeans\n",
    "#from sklearn.preprocessing import normalize\n",
    "#X = normalize(embeddings_message)\n",
    "#kmeans = KMeans(n_clusters=60, random_state=42)\n",
    "#df_questions[\"cluster_kmeans\"] = kmeans.fit_predict(X)"
   ]
  },
  {
   "cell_type": "code",
   "execution_count": null,
   "id": "54c4ef48-9735-4714-978a-023b3f43f562",
   "metadata": {},
   "outputs": [],
   "source": [
    "#Si vous souhaitez réduire le nombre de topics, vous le pouvez mais je le déconseille \n",
    "#fortement car on perd en pertinence\n",
    "\n",
    "#topic_model.reduce_topics(documents, nr_topics=333)\n",
    "#topic_model.visualize_topics().show()\n"
   ]
  },
  {
   "cell_type": "code",
   "execution_count": null,
   "id": "1a3b1cab-1b58-4f78-bc9a-7512da3494f2",
   "metadata": {},
   "outputs": [],
   "source": [
    "topic_model.get_topic_info()"
   ]
  },
  {
   "cell_type": "code",
   "execution_count": null,
   "id": "1148cc03-94c5-45ec-baa8-b4c044535fbb",
   "metadata": {},
   "outputs": [],
   "source": [
    "#Insertion des informations souhaitées dans le dataframe. \n",
    "topic_info = topic_model.get_topic_info()\n",
    "\n",
    "def nommer_topic(topic_model, topic_id):\n",
    "    mots = topic_model.get_topic(topic_id)\n",
    "    if not mots:\n",
    "        return \"Autres\"\n",
    "    return \", \".join([m[0] for m in mots[:4]])\n",
    "\n",
    "topic_noms = {tid: nommer_topic(topic_model, tid) for tid in topic_info[\"Topic\"]}\n",
    "df_questions[\"nom_topic\"] = df_questions[\"topic\"].map(topic_noms)"
   ]
  },
  {
   "cell_type": "code",
   "execution_count": null,
   "id": "4a02eb55-6e04-4714-8e72-c26fb42e358e",
   "metadata": {},
   "outputs": [],
   "source": [
    "df_questions.head(20)"
   ]
  },
  {
   "cell_type": "code",
   "execution_count": null,
   "id": "cd5690f0-c4ef-4689-8971-87dc0cc67f0e",
   "metadata": {},
   "outputs": [],
   "source": [
    "#enregistrement du dataframe questions pour l'utiliser dans l'application\n",
    "df_questions.to_csv(\"../data/df_questions.csv\", index=False)"
   ]
  },
  {
   "cell_type": "code",
   "execution_count": null,
   "id": "bfc0f925-7da1-483a-a853-100b2543fc4f",
   "metadata": {},
   "outputs": [],
   "source": [
    "import pandas as pd\n",
    "from sqlalchemy import create_engine, text\n",
    "\n",
    "user = os.getenv(\"USER\")\n",
    "password = os.getenv(\"PASSWORD\")\n",
    "host = os.getenv(\"HOST\")\n",
    "port = os.getenv(\"PORT\")\n",
    "database = os.getenv(\"DATABASEBDD\")\n",
    "schema = os.getenv(\"SCHEMA\")\n",
    "table_name = os.getenv(\"TABLENAME\")\n",
    "\n",
    "# Connexion SQLAlchemy à PostgreSQL et création de la table si non existante\n",
    "engine = create_engine(f\"postgresql+psycopg2://{user}:{password}@{host}:{port}/{database}\")\n",
    "\n",
    "with engine.connect() as connection:\n",
    "    connection.execute(text(f\"CREATE SCHEMA IF NOT EXISTS {schema};\"))\n",
    "\n",
    "#Enregistrement du DataFrame dans la table (dans le schéma) \n",
    "\n",
    "df_questions.to_sql(table_name, engine, schema=schema, if_exists=\"replace\", index=False)\n",
    "\n",
    "print(f\"Données insérées dans {schema}.{table_name}\")\n"
   ]
  },
  {
   "cell_type": "code",
   "execution_count": null,
   "id": "c3219870-4833-4360-bbb2-83fa2df3ab82",
   "metadata": {},
   "outputs": [],
   "source": [
    "from sqlalchemy.orm import declarative_base\n",
    "from sqlalchemy import Column, Integer, String\n",
    "from pgvector.sqlalchemy import Vector\n",
    "\n",
    "Base = declarative_base()\n",
    "with engine.connect() as connection:\n",
    "    connection.execute(text(f\"CREATE SCHEMA IF NOT EXISTS {schema};\"))\n",
    "\n",
    "class Sujet(Base):\n",
    "    __tablename__ = 'embeddings_titres'\n",
    "    __table_args__ = {'schema': 'mooc_forum'}\n",
    "\n",
    "    id = Column(Integer, primary_key=True, autoincrement=True)\n",
    "    source_id = Column(String)  \n",
    "    titre = Column(String)\n",
    "    embedding = Column(Vector(384))  \n",
    "Base.metadata.create_all(engine)"
   ]
  },
  {
   "cell_type": "code",
   "execution_count": null,
   "id": "5e2f560a-3a63-4b17-8de6-4a52b059be35",
   "metadata": {},
   "outputs": [],
   "source": [
    "import numpy as np\n",
    "from sqlalchemy import text\n",
    "\n",
    "embeddings = np.load(\"embeddings_titres.npy\")\n",
    "query_vector = embeddings[0].tolist()\n",
    "sql_vector = f\"[{', '.join(str(x) for x in query_vector)}]\"\n",
    "\n",
    "with engine.connect() as conn:\n",
    "    results = conn.execute(text(f\"\"\"\n",
    "        SELECT source_id, titre\n",
    "        FROM mooc_forum.embeddings_titres\n",
    "        ORDER BY embedding <=> '{sql_vector}'::vector\n",
    "        LIMIT 5\n",
    "    \"\"\")).fetchall()\n",
    "\n",
    "for r in results:\n",
    "    print(r.titre)\n"
   ]
  },
  {
   "cell_type": "code",
   "execution_count": null,
   "id": "2c8cee97-f3e3-41de-8bac-9a14e02c89d2",
   "metadata": {},
   "outputs": [],
   "source": []
  }
 ],
 "metadata": {
  "kernelspec": {
   "display_name": "Python 3 (ipykernel)",
   "language": "python",
   "name": "python3"
  },
  "language_info": {
   "codemirror_mode": {
    "name": "ipython",
    "version": 3
   },
   "file_extension": ".py",
   "mimetype": "text/x-python",
   "name": "python",
   "nbconvert_exporter": "python",
   "pygments_lexer": "ipython3",
   "version": "3.10.12"
  }
 },
 "nbformat": 4,
 "nbformat_minor": 5
}
