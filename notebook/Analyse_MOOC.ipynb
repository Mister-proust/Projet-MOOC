{
 "cells": [
  {
   "cell_type": "code",
   "execution_count": 1,
   "id": "96ef56d1-bb8a-41d3-816a-b525d91ab434",
   "metadata": {},
   "outputs": [
    {
     "data": {
      "text/html": [
       "<div>\n",
       "<style scoped>\n",
       "    .dataframe tbody tr th:only-of-type {\n",
       "        vertical-align: middle;\n",
       "    }\n",
       "\n",
       "    .dataframe tbody tr th {\n",
       "        vertical-align: top;\n",
       "    }\n",
       "\n",
       "    .dataframe thead th {\n",
       "        text-align: right;\n",
       "    }\n",
       "</style>\n",
       "<table border=\"1\" class=\"dataframe\">\n",
       "  <thead>\n",
       "    <tr style=\"text-align: right;\">\n",
       "      <th></th>\n",
       "      <th>_id</th>\n",
       "      <th>content</th>\n",
       "      <th>annotated_content_info</th>\n",
       "      <th>_users</th>\n",
       "    </tr>\n",
       "  </thead>\n",
       "  <tbody>\n",
       "    <tr>\n",
       "      <th>0</th>\n",
       "      <td>52ef4b71ab137b00720007d4</td>\n",
       "      <td>{'endorsed': False, 'created_at': '2014-02-03T...</td>\n",
       "      <td>{'52ef5f60919cec5e32000962': {'ability': {'can...</td>\n",
       "      <td>qb (MountacirAmar )</td>\n",
       "    </tr>\n",
       "    <tr>\n",
       "      <th>1</th>\n",
       "      <td>52ef4f99344caaf903000158</td>\n",
       "      <td>{'user_id': '149732', 'thread_type': 'discussi...</td>\n",
       "      <td>{'52efba725c4baf9e61000928': {'voted': '', 'ab...</td>\n",
       "      <td>ambruleaux (danielgv )</td>\n",
       "    </tr>\n",
       "    <tr>\n",
       "      <th>2</th>\n",
       "      <td>52ef50b5cfc81d7e4100090e</td>\n",
       "      <td>{'user_id': '301008', 'thread_type': 'discussi...</td>\n",
       "      <td>{'52ef50b5cfc81d7e4100090e': {'ability': {'can...</td>\n",
       "      <td>EricBouchet (Virginiebio )</td>\n",
       "    </tr>\n",
       "    <tr>\n",
       "      <th>3</th>\n",
       "      <td>52ef4d79b4907d2e23000996</td>\n",
       "      <td>{'context': 'course', 'closed': False, 'endors...</td>\n",
       "      <td>{'52ef73945c4baf9e610008a8': {'voted': '', 'su...</td>\n",
       "      <td>fidji (ElenaThomas (BEJA )ElenaThomas )</td>\n",
       "    </tr>\n",
       "    <tr>\n",
       "      <th>4</th>\n",
       "      <td>52ef57693c9f0ce0030008fe</td>\n",
       "      <td>{'context': 'course', 'closed': False, 'endors...</td>\n",
       "      <td>{'52efa903344caaf903000202': {'voted': '', 'su...</td>\n",
       "      <td>FrancoisL44 (Beldel )</td>\n",
       "    </tr>\n",
       "  </tbody>\n",
       "</table>\n",
       "</div>"
      ],
      "text/plain": [
       "                        _id  \\\n",
       "0  52ef4b71ab137b00720007d4   \n",
       "1  52ef4f99344caaf903000158   \n",
       "2  52ef50b5cfc81d7e4100090e   \n",
       "3  52ef4d79b4907d2e23000996   \n",
       "4  52ef57693c9f0ce0030008fe   \n",
       "\n",
       "                                             content  \\\n",
       "0  {'endorsed': False, 'created_at': '2014-02-03T...   \n",
       "1  {'user_id': '149732', 'thread_type': 'discussi...   \n",
       "2  {'user_id': '301008', 'thread_type': 'discussi...   \n",
       "3  {'context': 'course', 'closed': False, 'endors...   \n",
       "4  {'context': 'course', 'closed': False, 'endors...   \n",
       "\n",
       "                              annotated_content_info  \\\n",
       "0  {'52ef5f60919cec5e32000962': {'ability': {'can...   \n",
       "1  {'52efba725c4baf9e61000928': {'voted': '', 'ab...   \n",
       "2  {'52ef50b5cfc81d7e4100090e': {'ability': {'can...   \n",
       "3  {'52ef73945c4baf9e610008a8': {'voted': '', 'su...   \n",
       "4  {'52efa903344caaf903000202': {'voted': '', 'su...   \n",
       "\n",
       "                                    _users  \n",
       "0                      qb (MountacirAmar )  \n",
       "1                   ambruleaux (danielgv )  \n",
       "2               EricBouchet (Virginiebio )  \n",
       "3  fidji (ElenaThomas (BEJA )ElenaThomas )  \n",
       "4                    FrancoisL44 (Beldel )  "
      ]
     },
     "execution_count": 1,
     "metadata": {},
     "output_type": "execute_result"
    }
   ],
   "source": [
    "from pymongo import MongoClient\n",
    "import pandas as pd\n",
    "\n",
    "client = MongoClient(\"mongodb://localhost:27017/\")\n",
    "\n",
    "db = client[\"MOOC\"]\n",
    "collection = db[\"forum\"]\n",
    "\n",
    "\n",
    "df = pd.DataFrame(list(collection.find()))\n",
    "df.head()\n"
   ]
  },
  {
   "cell_type": "code",
   "execution_count": null,
   "id": "40a5d5db-4613-4b4a-afc9-f27375dc2e65",
   "metadata": {},
   "outputs": [],
   "source": [
    "df[\"content\"].loc[0]"
   ]
  },
  {
   "cell_type": "code",
   "execution_count": null,
   "id": "32a57f03-0431-4fb6-a2bb-6b473f961497",
   "metadata": {},
   "outputs": [],
   "source": [
    "df[\"annotated_content_info\"].loc[0]"
   ]
  }
 ],
 "metadata": {
  "kernelspec": {
   "display_name": "Python 3 (ipykernel)",
   "language": "python",
   "name": "python3"
  },
  "language_info": {
   "codemirror_mode": {
    "name": "ipython",
    "version": 3
   },
   "file_extension": ".py",
   "mimetype": "text/x-python",
   "name": "python",
   "nbconvert_exporter": "python",
   "pygments_lexer": "ipython3",
   "version": "3.12.9"
  }
 },
 "nbformat": 4,
 "nbformat_minor": 5
}
